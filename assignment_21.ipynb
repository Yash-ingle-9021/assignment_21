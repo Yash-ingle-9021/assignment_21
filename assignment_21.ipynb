{
 "cells": [
  {
   "cell_type": "code",
   "execution_count": 14,
   "id": "2e8a2534-0c85-44b1-906a-5379aa527597",
   "metadata": {},
   "outputs": [
    {
     "name": "stdout",
     "output_type": "stream",
     "text": [
      "CSV file created successfully\n"
     ]
    }
   ],
   "source": [
    "import requests\n",
    "from bs4 import BeautifulSoup\n",
    "import csv\n",
    "\n",
    "\n",
    "url = \"https://www.youtube.com/@PW-Foundation/videos\"\n",
    "\n",
    "\n",
    "response = requests.get(url)\n",
    "content = response.content\n",
    "\n",
    "\n",
    "soup = BeautifulSoup(content, \"html.parser\")\n",
    "\n",
    "\n",
    "video_elements = soup.find_all(\"div\", class_=\"ytd-grid-video-renderer\")\n",
    "\n",
    "video_data = []\n",
    "for i in range(min(5, len(video_elements))):\n",
    "    video_element = video_elements[i]\n",
    "    try:\n",
    "        title = video_element.find(\"a\", class_=\"yt-simple-endpoint style-scope ytd-grid-video-renderer\").text.strip()\n",
    "    except AttributeError:\n",
    "        title = \"Not found\"\n",
    "    try:\n",
    "        views = int(video_element.find(\"span\", class_=\"style-scope ytd-grid-video-renderer\").text.strip().replace(\",\", \"\").split()[0])\n",
    "    except (AttributeError, ValueError, IndexError):\n",
    "        views = 0\n",
    "    try:\n",
    "        thumbnail = video_element.find(\"img\", class_=\"style-scope yt-img-shadow\")[\"src\"]\n",
    "    except (AttributeError, IndexError):\n",
    "        thumbnail = \"Not found\"\n",
    "    try:\n",
    "        post_date = video_element.find(\"div\", class_=\"style-scope ytd-grid-video-renderer\").text.strip().split(\"\\n\")[0]\n",
    "    except (AttributeError, IndexError):\n",
    "        post_date = \"Not found\"\n",
    "    video_data.append({\"title\": title, \"views\": views, \"thumbnail\": thumbnail, \"post_date\": post_date})\n",
    "\n",
    "\n",
    "with open(\"video_data.csv\", mode=\"w\") as csv_file:\n",
    "    fieldnames = [\"title\", \"views\", \"thumbnail\", \"post_date\"]\n",
    "    writer = csv.DictWriter(csv_file, fieldnames=fieldnames)\n",
    "\n",
    "    writer.writeheader()\n",
    "    for data in video_data:\n",
    "        writer.writerow(data)\n",
    "\n",
    "print(\"CSV file created successfully\")\n"
   ]
  },
  {
   "cell_type": "code",
   "execution_count": null,
   "id": "469055a2-e28c-455b-806a-f7e26c687cd6",
   "metadata": {},
   "outputs": [],
   "source": []
  }
 ],
 "metadata": {
  "kernelspec": {
   "display_name": "Python 3 (ipykernel)",
   "language": "python",
   "name": "python3"
  },
  "language_info": {
   "codemirror_mode": {
    "name": "ipython",
    "version": 3
   },
   "file_extension": ".py",
   "mimetype": "text/x-python",
   "name": "python",
   "nbconvert_exporter": "python",
   "pygments_lexer": "ipython3",
   "version": "3.10.6"
  }
 },
 "nbformat": 4,
 "nbformat_minor": 5
}
